{
 "cells": [
  {
   "cell_type": "code",
   "execution_count": null,
   "metadata": {},
   "outputs": [],
   "source": [
    "import numpy as np\n",
    "import _pickle as pickle\n",
    "print(pickle.__doc__)\n"
   ]
  },
  {
   "cell_type": "code",
   "execution_count": 17,
   "metadata": {},
   "outputs": [],
   "source": [
    "def LoadDataNoDefCW():\n",
    "\n",
    "    print (\"Loading non-defended dataset for closed-world scenario\")\n",
    "    # Point to the directory storing data\n",
    "    dataset_dir = 'dataset/'\n",
    "\n",
    "    # X represents a sequence of traffic directions\n",
    "    # y represents a sequence of corresponding label (website's label)\n",
    "\n",
    "    # Load training data\n",
    "    with open(dataset_dir + 'X_train_NoDef_p3.pkl', 'rb') as handle:\n",
    "        X_train = np.array(pickle.load(handle))\n",
    "    with open(dataset_dir + 'y_train_NoDef_p3.pkl', 'rb') as handle:\n",
    "        y_train = np.array(pickle.load(handle))\n",
    "\n",
    "    # Load validation data\n",
    "    with open(dataset_dir + 'X_valid_NoDef_p3.pkl', 'rb') as handle:\n",
    "        X_valid = np.array(pickle.load(handle))\n",
    "    with open(dataset_dir + 'y_valid_NoDef_p3.pkl', 'rb') as handle:\n",
    "        y_valid = np.array(pickle.load(handle))\n",
    "\n",
    "    # Load testing data\n",
    "    with open(dataset_dir + 'X_test_NoDef_p3.pkl', 'rb') as handle:\n",
    "        X_test = np.array(pickle.load(handle))\n",
    "    with open(dataset_dir + 'y_test_NoDef.pkl_p3', 'rb') as handle:\n",
    "        y_test = np.array(pickle.load(handle))\n",
    "\n",
    "    print (\"Data dimensions:\")\n",
    "    print (\"X: Training data's shape : \", X_train.shape)\n",
    "    print (\"y: Training data's shape : \", y_train.shape)\n",
    "    print (\"X: Validation data's shape : \", X_valid.shape)\n",
    "    print (\"y: Validation data's shape : \", y_valid.shape)\n",
    "    print (\"X: Testing data's shape : \", X_test.shape)\n",
    "    print (\"y: Testing data's shape : \", y_test.shape)\n",
    "\n",
    "    return X_train, y_train, X_valid, y_valid, X_test, y_test\n"
   ]
  },
  {
   "cell_type": "code",
   "execution_count": 18,
   "metadata": {},
   "outputs": [
    {
     "name": "stdout",
     "output_type": "stream",
     "text": [
      "Loading non-defended dataset for closed-world scenario\n"
     ]
    },
    {
     "ename": "FileNotFoundError",
     "evalue": "[Errno 2] No such file or directory: 'dataset/y_test_NoDef.pkl_p3'",
     "output_type": "error",
     "traceback": [
      "\u001b[1;31m---------------------------------------------------------------------------\u001b[0m",
      "\u001b[1;31mFileNotFoundError\u001b[0m                         Traceback (most recent call last)",
      "\u001b[1;32m<ipython-input-18-5e7f3421ccf7>\u001b[0m in \u001b[0;36m<module>\u001b[1;34m\u001b[0m\n\u001b[1;32m----> 1\u001b[1;33m \u001b[0mX\u001b[0m\u001b[1;33m,\u001b[0m \u001b[0my\u001b[0m \u001b[1;33m=\u001b[0m \u001b[0mLoadDataNoDefCW\u001b[0m\u001b[1;33m(\u001b[0m\u001b[1;33m)\u001b[0m\u001b[1;33m\u001b[0m\u001b[1;33m\u001b[0m\u001b[0m\n\u001b[0m",
      "\u001b[1;32m<ipython-input-17-d3a508affee0>\u001b[0m in \u001b[0;36mLoadDataNoDefCW\u001b[1;34m()\u001b[0m\n\u001b[0;32m     23\u001b[0m     \u001b[1;32mwith\u001b[0m \u001b[0mopen\u001b[0m\u001b[1;33m(\u001b[0m\u001b[0mdataset_dir\u001b[0m \u001b[1;33m+\u001b[0m \u001b[1;34m'X_test_NoDef_p3.pkl'\u001b[0m\u001b[1;33m,\u001b[0m \u001b[1;34m'rb'\u001b[0m\u001b[1;33m)\u001b[0m \u001b[1;32mas\u001b[0m \u001b[0mhandle\u001b[0m\u001b[1;33m:\u001b[0m\u001b[1;33m\u001b[0m\u001b[1;33m\u001b[0m\u001b[0m\n\u001b[0;32m     24\u001b[0m         \u001b[0mX_test\u001b[0m \u001b[1;33m=\u001b[0m \u001b[0mnp\u001b[0m\u001b[1;33m.\u001b[0m\u001b[0marray\u001b[0m\u001b[1;33m(\u001b[0m\u001b[0mpickle\u001b[0m\u001b[1;33m.\u001b[0m\u001b[0mload\u001b[0m\u001b[1;33m(\u001b[0m\u001b[0mhandle\u001b[0m\u001b[1;33m)\u001b[0m\u001b[1;33m)\u001b[0m\u001b[1;33m\u001b[0m\u001b[1;33m\u001b[0m\u001b[0m\n\u001b[1;32m---> 25\u001b[1;33m     \u001b[1;32mwith\u001b[0m \u001b[0mopen\u001b[0m\u001b[1;33m(\u001b[0m\u001b[0mdataset_dir\u001b[0m \u001b[1;33m+\u001b[0m \u001b[1;34m'y_test_NoDef.pkl_p3'\u001b[0m\u001b[1;33m,\u001b[0m \u001b[1;34m'rb'\u001b[0m\u001b[1;33m)\u001b[0m \u001b[1;32mas\u001b[0m \u001b[0mhandle\u001b[0m\u001b[1;33m:\u001b[0m\u001b[1;33m\u001b[0m\u001b[1;33m\u001b[0m\u001b[0m\n\u001b[0m\u001b[0;32m     26\u001b[0m         \u001b[0my_test\u001b[0m \u001b[1;33m=\u001b[0m \u001b[0mnp\u001b[0m\u001b[1;33m.\u001b[0m\u001b[0marray\u001b[0m\u001b[1;33m(\u001b[0m\u001b[0mpickle\u001b[0m\u001b[1;33m.\u001b[0m\u001b[0mload\u001b[0m\u001b[1;33m(\u001b[0m\u001b[0mhandle\u001b[0m\u001b[1;33m)\u001b[0m\u001b[1;33m)\u001b[0m\u001b[1;33m\u001b[0m\u001b[1;33m\u001b[0m\u001b[0m\n\u001b[0;32m     27\u001b[0m \u001b[1;33m\u001b[0m\u001b[0m\n",
      "\u001b[1;31mFileNotFoundError\u001b[0m: [Errno 2] No such file or directory: 'dataset/y_test_NoDef.pkl_p3'"
     ]
    }
   ],
   "source": [
    "X, y = LoadDataNoDefCW()"
   ]
  },
  {
   "cell_type": "code",
   "execution_count": 85,
   "metadata": {},
   "outputs": [
    {
     "name": "stdout",
     "output_type": "stream",
     "text": [
      "[-1.  1. -1. ...  0.  0.  0.]\n"
     ]
    }
   ],
   "source": [
    "print(X[0])\n"
   ]
  },
  {
   "cell_type": "code",
   "execution_count": 86,
   "metadata": {},
   "outputs": [
    {
     "name": "stdout",
     "output_type": "stream",
     "text": [
      "93\n"
     ]
    }
   ],
   "source": [
    "print(y[0])"
   ]
  },
  {
   "cell_type": "code",
   "execution_count": null,
   "metadata": {},
   "outputs": [],
   "source": []
  }
 ],
 "metadata": {
  "kernelspec": {
   "display_name": "Python 3",
   "language": "python",
   "name": "python3"
  },
  "language_info": {
   "codemirror_mode": {
    "name": "ipython",
    "version": 3
   },
   "file_extension": ".py",
   "mimetype": "text/x-python",
   "name": "python",
   "nbconvert_exporter": "python",
   "pygments_lexer": "ipython3",
   "version": "3.7.7"
  }
 },
 "nbformat": 4,
 "nbformat_minor": 4
}

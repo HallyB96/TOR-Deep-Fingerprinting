{
 "cells": [
  {
   "cell_type": "code",
   "execution_count": 1,
   "metadata": {},
   "outputs": [],
   "source": [
    "from Datareader import LoadDataNoDefCW"
   ]
  },
  {
   "cell_type": "code",
   "execution_count": 2,
   "metadata": {},
   "outputs": [],
   "source": [
    "import tensorflow as tf\n",
    "from tensorflow.keras import backend as K\n",
    "#from Model_NoDef import DFNet\n",
    "import random\n",
    "from tensorflow.keras.optimizers import Adamax\n",
    "import numpy as np\n",
    "import os\n"
   ]
  },
  {
   "cell_type": "code",
   "execution_count": 3,
   "metadata": {},
   "outputs": [],
   "source": [
    "NB_EPOCH = 30   # Number of training epoch\n",
    "BATCH_SIZE = 128 # Batch size\n",
    "VERBOSE = 2 # Output display mode\n",
    "LENGTH = 5000 # Packet sequence length\n",
    "OPTIMIZER = Adamax(lr=0.002, beta_1=0.9, beta_2=0.999, epsilon=1e-08, decay=0.0) # Optimizer\n",
    "NB_CLASSES = 95 # number of outputs = number of classes\n",
    "INPUT_SHAPE = (LENGTH,1)\n"
   ]
  },
  {
   "cell_type": "code",
   "execution_count": 4,
   "metadata": {},
   "outputs": [
    {
     "name": "stdout",
     "output_type": "stream",
     "text": [
      "Loading non-defended dataset for closed-world scenario\n",
      "Data dimensions:\n",
      "X: Training data's shape :  (76000, 5000)\n",
      "y: Training data's shape :  (76000,)\n",
      "X: Validation data's shape :  (9500, 5000)\n",
      "y: Validation data's shape :  (9500,)\n",
      "X: Testing data's shape :  (9500, 5000)\n",
      "y: Testing data's shape :  (9500,)\n"
     ]
    }
   ],
   "source": [
    "X_train, y_train, X_valid, y_valid, X_test, y_test = LoadDataNoDefCW()"
   ]
  },
  {
   "cell_type": "code",
   "execution_count": 5,
   "metadata": {},
   "outputs": [
    {
     "name": "stdout",
     "output_type": "stream",
     "text": [
      "76000 train samples\n",
      "9500 validation samples\n",
      "9500 test samples\n"
     ]
    }
   ],
   "source": [
    "X_train = X_train.astype('float32')\n",
    "X_valid = X_valid.astype('float32')\n",
    "X_test = X_test.astype('float32')\n",
    "y_train = y_train.astype('float32')\n",
    "y_valid = y_valid.astype('float32')\n",
    "y_test = y_test.astype('float32')\n",
    "\n",
    "X_train = X_train[:, :,np.newaxis]\n",
    "X_valid = X_valid[:, :,np.newaxis]\n",
    "X_test = X_test[:, :,np.newaxis]\n",
    "\n",
    "print(X_train.shape[0], 'train samples')\n",
    "print(X_valid.shape[0], 'validation samples')\n",
    "print(X_test.shape[0], 'test samples')"
   ]
  },
  {
   "cell_type": "code",
   "execution_count": 6,
   "metadata": {},
   "outputs": [],
   "source": [
    "y_train = tf.keras.utils.to_categorical(y_train, NB_CLASSES)\n",
    "y_valid = tf.keras.utils.to_categorical(y_valid, NB_CLASSES)\n",
    "y_test = tf.keras.utils.to_categorical(y_test, NB_CLASSES)"
   ]
  },
  {
   "cell_type": "code",
   "execution_count": 7,
   "metadata": {},
   "outputs": [],
   "source": [
    "from models import DFNet"
   ]
  },
  {
   "cell_type": "code",
   "execution_count": 8,
   "metadata": {},
   "outputs": [
    {
     "name": "stdout",
     "output_type": "stream",
     "text": [
      "Executing op RandomUniform in device /job:localhost/replica:0/task:0/device:GPU:0\n",
      "Executing op Sub in device /job:localhost/replica:0/task:0/device:GPU:0\n",
      "Executing op Mul in device /job:localhost/replica:0/task:0/device:GPU:0\n",
      "Executing op Add in device /job:localhost/replica:0/task:0/device:GPU:0\n",
      "Executing op VarHandleOp in device /job:localhost/replica:0/task:0/device:GPU:0\n",
      "Executing op VarIsInitializedOp in device /job:localhost/replica:0/task:0/device:GPU:0\n",
      "Executing op LogicalNot in device /job:localhost/replica:0/task:0/device:GPU:0\n",
      "Executing op Assert in device /job:localhost/replica:0/task:0/device:GPU:0\n",
      "Executing op AssignVariableOp in device /job:localhost/replica:0/task:0/device:GPU:0\n",
      "Executing op Fill in device /job:localhost/replica:0/task:0/device:GPU:0\n",
      "Executing op VarHandleOp in device /job:localhost/replica:0/task:0/device:GPU:0\n",
      "Executing op VarHandleOp in device /job:localhost/replica:0/task:0/device:GPU:0\n",
      "Executing op VarHandleOp in device /job:localhost/replica:0/task:0/device:GPU:0\n",
      "Executing op VarHandleOp in device /job:localhost/replica:0/task:0/device:GPU:0\n",
      "Executing op VarHandleOp in device /job:localhost/replica:0/task:0/device:GPU:0\n",
      "Executing op VarHandleOp in device /job:localhost/replica:0/task:0/device:GPU:0\n",
      "Executing op VarHandleOp in device /job:localhost/replica:0/task:0/device:GPU:0\n",
      "Executing op VarHandleOp in device /job:localhost/replica:0/task:0/device:GPU:0\n",
      "Executing op VarHandleOp in device /job:localhost/replica:0/task:0/device:GPU:0\n",
      "Executing op VarHandleOp in device /job:localhost/replica:0/task:0/device:GPU:0\n",
      "Executing op VarHandleOp in device /job:localhost/replica:0/task:0/device:GPU:0\n",
      "Executing op StatelessRandomUniform in device /job:localhost/replica:0/task:0/device:GPU:0\n",
      "Executing op VarHandleOp in device /job:localhost/replica:0/task:0/device:GPU:0\n",
      "Executing op VarHandleOp in device /job:localhost/replica:0/task:0/device:GPU:0\n",
      "WARNING:tensorflow:Large dropout rate: 0.7 (>0.5). In TensorFlow 2.x, dropout() uses dropout rate instead of keep_prob. Please ensure that this is intended.\n",
      "Executing op VarHandleOp in device /job:localhost/replica:0/task:0/device:GPU:0\n",
      "Executing op VarHandleOp in device /job:localhost/replica:0/task:0/device:GPU:0\n",
      "Executing op VarHandleOp in device /job:localhost/replica:0/task:0/device:GPU:0\n"
     ]
    }
   ],
   "source": [
    "tf.debugging.set_log_device_placement(True)\n",
    "\n",
    "\n",
    "model = DFNet.build(input_shape=INPUT_SHAPE, classes=NB_CLASSES)"
   ]
  },
  {
   "cell_type": "code",
   "execution_count": 9,
   "metadata": {},
   "outputs": [
    {
     "name": "stdout",
     "output_type": "stream",
     "text": [
      "Executing op VarHandleOp in device /job:localhost/replica:0/task:0/device:GPU:0\n",
      "Model compiled\n"
     ]
    }
   ],
   "source": [
    "model.compile(loss=\"categorical_crossentropy\", optimizer=OPTIMIZER,\n",
    "\tmetrics=[\"accuracy\"])\n",
    "print (\"Model compiled\")"
   ]
  },
  {
   "cell_type": "code",
   "execution_count": 10,
   "metadata": {},
   "outputs": [
    {
     "name": "stdout",
     "output_type": "stream",
     "text": [
      "[name: \"/device:CPU:0\"\n",
      "device_type: \"CPU\"\n",
      "memory_limit: 268435456\n",
      "locality {\n",
      "}\n",
      "incarnation: 16451726951889428483\n",
      ", name: \"/device:GPU:0\"\n",
      "device_type: \"GPU\"\n",
      "memory_limit: 7129736807\n",
      "locality {\n",
      "  bus_id: 1\n",
      "  links {\n",
      "  }\n",
      "}\n",
      "incarnation: 5285960787205539344\n",
      "physical_device_desc: \"device: 0, name: GeForce GTX 1070, pci bus id: 0000:01:00.0, compute capability: 6.1\"\n",
      "]\n",
      "Num GPUs Available:  1\n"
     ]
    }
   ],
   "source": [
    "from tensorflow.python.client import device_lib\n",
    "print(device_lib.list_local_devices())\n",
    "print(\"Num GPUs Available: \", len(tf.config.experimental.list_physical_devices('GPU')))\n"
   ]
  },
  {
   "cell_type": "code",
   "execution_count": 11,
   "metadata": {},
   "outputs": [
    {
     "name": "stdout",
     "output_type": "stream",
     "text": [
      "Executing op RangeDataset in device /job:localhost/replica:0/task:0/device:CPU:0\n",
      "Executing op RepeatDataset in device /job:localhost/replica:0/task:0/device:CPU:0\n",
      "Executing op MapDataset in device /job:localhost/replica:0/task:0/device:CPU:0\n",
      "Executing op PrefetchDataset in device /job:localhost/replica:0/task:0/device:CPU:0\n",
      "Executing op FlatMapDataset in device /job:localhost/replica:0/task:0/device:CPU:0\n",
      "Executing op TensorDataset in device /job:localhost/replica:0/task:0/device:CPU:0\n",
      "Executing op RepeatDataset in device /job:localhost/replica:0/task:0/device:CPU:0\n",
      "Executing op ZipDataset in device /job:localhost/replica:0/task:0/device:CPU:0\n",
      "Executing op ParallelMapDataset in device /job:localhost/replica:0/task:0/device:CPU:0\n",
      "Executing op RangeDataset in device /job:localhost/replica:0/task:0/device:CPU:0\n",
      "Executing op RepeatDataset in device /job:localhost/replica:0/task:0/device:CPU:0\n",
      "Executing op MapDataset in device /job:localhost/replica:0/task:0/device:CPU:0\n",
      "Executing op PrefetchDataset in device /job:localhost/replica:0/task:0/device:CPU:0\n",
      "Executing op FlatMapDataset in device /job:localhost/replica:0/task:0/device:CPU:0\n",
      "Executing op TensorDataset in device /job:localhost/replica:0/task:0/device:CPU:0\n",
      "Executing op RepeatDataset in device /job:localhost/replica:0/task:0/device:CPU:0\n",
      "Executing op ZipDataset in device /job:localhost/replica:0/task:0/device:CPU:0\n",
      "Executing op ParallelMapDataset in device /job:localhost/replica:0/task:0/device:CPU:0\n",
      "Executing op DatasetCardinality in device /job:localhost/replica:0/task:0/device:CPU:0\n",
      "Train on 76000 samples, validate on 9500 samples\n",
      "Epoch 1/30\n",
      "Executing op ModelDataset in device /job:localhost/replica:0/task:0/device:CPU:0\n",
      "Executing op AnonymousIteratorV2 in device /job:localhost/replica:0/task:0/device:CPU:0\n",
      "Executing op MakeIterator in device /job:localhost/replica:0/task:0/device:CPU:0\n",
      "WARNING:tensorflow:Large dropout rate: 0.7 (>0.5). In TensorFlow 2.x, dropout() uses dropout rate instead of keep_prob. Please ensure that this is intended.\n",
      "Executing op VarHandleOp in device /job:localhost/replica:0/task:0/device:GPU:0\n",
      "Executing op AssignVariableOp in device /job:localhost/replica:0/task:0/device:GPU:0\n",
      "Executing op VarHandleOp in device /job:localhost/replica:0/task:0/device:GPU:0\n",
      "Executing op VarHandleOp in device /job:localhost/replica:0/task:0/device:GPU:0\n",
      "Executing op VarHandleOp in device /job:localhost/replica:0/task:0/device:GPU:0\n",
      "Executing op VarHandleOp in device /job:localhost/replica:0/task:0/device:GPU:0\n",
      "Executing op VarHandleOp in device /job:localhost/replica:0/task:0/device:GPU:0\n",
      "Executing op LogicalNot in device /job:localhost/replica:0/task:0/device:GPU:0\n",
      "Executing op Assert in device /job:localhost/replica:0/task:0/device:GPU:0\n",
      "Executing op VarHandleOp in device /job:localhost/replica:0/task:0/device:GPU:0\n",
      "Executing op VarHandleOp in device /job:localhost/replica:0/task:0/device:GPU:0\n",
      "Executing op VarHandleOp in device /job:localhost/replica:0/task:0/device:GPU:0\n",
      "Executing op VarHandleOp in device /job:localhost/replica:0/task:0/device:GPU:0\n",
      "Executing op VarHandleOp in device /job:localhost/replica:0/task:0/device:GPU:0\n",
      "Executing op VarHandleOp in device /job:localhost/replica:0/task:0/device:GPU:0\n",
      "Executing op VarHandleOp in device /job:localhost/replica:0/task:0/device:GPU:0\n",
      "Executing op VarHandleOp in device /job:localhost/replica:0/task:0/device:GPU:0\n",
      "Executing op VarHandleOp in device /job:localhost/replica:0/task:0/device:GPU:0\n",
      "Executing op VarHandleOp in device /job:localhost/replica:0/task:0/device:GPU:0\n",
      "Executing op VarHandleOp in device /job:localhost/replica:0/task:0/device:GPU:0\n",
      "Executing op VarHandleOp in device /job:localhost/replica:0/task:0/device:GPU:0\n",
      "Executing op VarHandleOp in device /job:localhost/replica:0/task:0/device:GPU:0\n",
      "Executing op VarHandleOp in device /job:localhost/replica:0/task:0/device:GPU:0\n",
      "Executing op VarHandleOp in device /job:localhost/replica:0/task:0/device:GPU:0\n",
      "Executing op VarHandleOp in device /job:localhost/replica:0/task:0/device:GPU:0\n",
      "Executing op VarHandleOp in device /job:localhost/replica:0/task:0/device:GPU:0\n",
      "Executing op VarHandleOp in device /job:localhost/replica:0/task:0/device:GPU:0\n",
      "Executing op VarHandleOp in device /job:localhost/replica:0/task:0/device:GPU:0\n",
      "Executing op VarHandleOp in device /job:localhost/replica:0/task:0/device:GPU:0\n",
      "Executing op VarHandleOp in device /job:localhost/replica:0/task:0/device:GPU:0\n",
      "Executing op VarHandleOp in device /job:localhost/replica:0/task:0/device:GPU:0\n",
      "Executing op VarHandleOp in device /job:localhost/replica:0/task:0/device:GPU:0\n",
      "Executing op VarHandleOp in device /job:localhost/replica:0/task:0/device:GPU:0\n",
      "Executing op VarHandleOp in device /job:localhost/replica:0/task:0/device:GPU:0\n",
      "Executing op VarHandleOp in device /job:localhost/replica:0/task:0/device:GPU:0\n",
      "Executing op VarHandleOp in device /job:localhost/replica:0/task:0/device:GPU:0\n",
      "Executing op VarHandleOp in device /job:localhost/replica:0/task:0/device:GPU:0\n",
      "Executing op VarHandleOp in device /job:localhost/replica:0/task:0/device:GPU:0\n",
      "Executing op VarHandleOp in device /job:localhost/replica:0/task:0/device:GPU:0\n",
      "Executing op VarHandleOp in device /job:localhost/replica:0/task:0/device:GPU:0\n",
      "Executing op VarHandleOp in device /job:localhost/replica:0/task:0/device:GPU:0\n",
      "Executing op VarHandleOp in device /job:localhost/replica:0/task:0/device:GPU:0\n",
      "Executing op VarHandleOp in device /job:localhost/replica:0/task:0/device:GPU:0\n",
      "Executing op VarHandleOp in device /job:localhost/replica:0/task:0/device:GPU:0\n",
      "Executing op VarHandleOp in device /job:localhost/replica:0/task:0/device:GPU:0\n",
      "Executing op VarHandleOp in device /job:localhost/replica:0/task:0/device:GPU:0\n",
      "Executing op VarHandleOp in device /job:localhost/replica:0/task:0/device:GPU:0\n",
      "Executing op VarHandleOp in device /job:localhost/replica:0/task:0/device:GPU:0\n",
      "Executing op VarHandleOp in device /job:localhost/replica:0/task:0/device:GPU:0\n",
      "Executing op VarHandleOp in device /job:localhost/replica:0/task:0/device:GPU:0\n",
      "Executing op VarHandleOp in device /job:localhost/replica:0/task:0/device:GPU:0\n",
      "Executing op VarHandleOp in device /job:localhost/replica:0/task:0/device:GPU:0\n",
      "Executing op VarHandleOp in device /job:localhost/replica:0/task:0/device:GPU:0\n",
      "Executing op VarHandleOp in device /job:localhost/replica:0/task:0/device:GPU:0\n",
      "Executing op VarHandleOp in device /job:localhost/replica:0/task:0/device:GPU:0\n",
      "Executing op VarHandleOp in device /job:localhost/replica:0/task:0/device:GPU:0\n",
      "Executing op VarHandleOp in device /job:localhost/replica:0/task:0/device:GPU:0\n",
      "Executing op VarHandleOp in device /job:localhost/replica:0/task:0/device:GPU:0\n",
      "Executing op VarHandleOp in device /job:localhost/replica:0/task:0/device:GPU:0\n",
      "Executing op VarHandleOp in device /job:localhost/replica:0/task:0/device:GPU:0\n",
      "Executing op VarHandleOp in device /job:localhost/replica:0/task:0/device:GPU:0\n",
      "Executing op VarHandleOp in device /job:localhost/replica:0/task:0/device:GPU:0\n",
      "Executing op VarHandleOp in device /job:localhost/replica:0/task:0/device:GPU:0\n",
      "Executing op VarHandleOp in device /job:localhost/replica:0/task:0/device:GPU:0\n",
      "Executing op VarHandleOp in device /job:localhost/replica:0/task:0/device:GPU:0\n",
      "Executing op VarHandleOp in device /job:localhost/replica:0/task:0/device:GPU:0\n",
      "Executing op VarHandleOp in device /job:localhost/replica:0/task:0/device:GPU:0\n",
      "Executing op VarHandleOp in device /job:localhost/replica:0/task:0/device:GPU:0\n",
      "Executing op VarHandleOp in device /job:localhost/replica:0/task:0/device:GPU:0\n",
      "Executing op VarHandleOp in device /job:localhost/replica:0/task:0/device:GPU:0\n",
      "Executing op VarHandleOp in device /job:localhost/replica:0/task:0/device:GPU:0\n",
      "Executing op VarHandleOp in device /job:localhost/replica:0/task:0/device:GPU:0\n",
      "Executing op VarHandleOp in device /job:localhost/replica:0/task:0/device:GPU:0\n",
      "Executing op VarHandleOp in device /job:localhost/replica:0/task:0/device:GPU:0\n",
      "Executing op VarHandleOp in device /job:localhost/replica:0/task:0/device:GPU:0\n",
      "Executing op VarHandleOp in device /job:localhost/replica:0/task:0/device:GPU:0\n",
      "Executing op VarHandleOp in device /job:localhost/replica:0/task:0/device:GPU:0\n",
      "Executing op VarHandleOp in device /job:localhost/replica:0/task:0/device:GPU:0\n"
     ]
    },
    {
     "name": "stdout",
     "output_type": "stream",
     "text": [
      "Executing op VarHandleOp in device /job:localhost/replica:0/task:0/device:GPU:0\n",
      "Executing op VarHandleOp in device /job:localhost/replica:0/task:0/device:GPU:0\n",
      "Executing op VarHandleOp in device /job:localhost/replica:0/task:0/device:GPU:0\n",
      "Executing op VarHandleOp in device /job:localhost/replica:0/task:0/device:GPU:0\n",
      "Executing op VarHandleOp in device /job:localhost/replica:0/task:0/device:GPU:0\n",
      "Executing op VarHandleOp in device /job:localhost/replica:0/task:0/device:GPU:0\n",
      "Executing op VarHandleOp in device /job:localhost/replica:0/task:0/device:GPU:0\n",
      "Executing op VarHandleOp in device /job:localhost/replica:0/task:0/device:GPU:0\n",
      "Executing op VarHandleOp in device /job:localhost/replica:0/task:0/device:GPU:0\n",
      "Executing op VarHandleOp in device /job:localhost/replica:0/task:0/device:GPU:0\n",
      "Executing op VarHandleOp in device /job:localhost/replica:0/task:0/device:GPU:0\n",
      "Executing op VarHandleOp in device /job:localhost/replica:0/task:0/device:GPU:0\n",
      "Executing op VarHandleOp in device /job:localhost/replica:0/task:0/device:GPU:0\n",
      "Executing op VarHandleOp in device /job:localhost/replica:0/task:0/device:GPU:0\n",
      "WARNING:tensorflow:Large dropout rate: 0.7 (>0.5). In TensorFlow 2.x, dropout() uses dropout rate instead of keep_prob. Please ensure that this is intended.\n",
      "Executing op __inference_distributed_function_5598 in device /job:localhost/replica:0/task:0/device:GPU:0\n",
      "75904/76000 [============================>.] - ETA: 0s - loss: 1.9776 - accuracy: 0.4927Executing op ModelDataset in device /job:localhost/replica:0/task:0/device:CPU:0\n",
      "Executing op __inference_distributed_function_7803 in device /job:localhost/replica:0/task:0/device:GPU:0\n",
      "76000/76000 [==============================] - 99s 1ms/sample - loss: 1.9763 - accuracy: 0.4930 - val_loss: 0.6943 - val_accuracy: 0.8211\n",
      "Epoch 2/30\n",
      "75904/76000 [============================>.] - ETA: 0s - loss: 0.7198 - accuracy: 0.8168Executing op ModelDataset in device /job:localhost/replica:0/task:0/device:CPU:0\n",
      "Executing op DeleteIterator in device /job:localhost/replica:0/task:0/device:CPU:0\n",
      "76000/76000 [==============================] - 94s 1ms/sample - loss: 0.7195 - accuracy: 0.8169 - val_loss: 0.3246 - val_accuracy: 0.9188\n",
      "Epoch 3/30\n",
      "75904/76000 [============================>.] - ETA: 0s - loss: 0.4400 - accuracy: 0.8931Executing op ModelDataset in device /job:localhost/replica:0/task:0/device:CPU:0\n",
      "76000/76000 [==============================] - 95s 1ms/sample - loss: 0.4398 - accuracy: 0.8932 - val_loss: 0.2205 - val_accuracy: 0.9475\n",
      "Epoch 4/30\n",
      "75904/76000 [============================>.] - ETA: 0s - loss: 0.3251 - accuracy: 0.9210Executing op ModelDataset in device /job:localhost/replica:0/task:0/device:CPU:0\n",
      "76000/76000 [==============================] - 94s 1ms/sample - loss: 0.3252 - accuracy: 0.9210 - val_loss: 0.1571 - val_accuracy: 0.9625\n",
      "Epoch 5/30\n",
      "75904/76000 [============================>.] - ETA: 0s - loss: 0.2588 - accuracy: 0.9360Executing op ModelDataset in device /job:localhost/replica:0/task:0/device:CPU:0\n",
      "76000/76000 [==============================] - 93s 1ms/sample - loss: 0.2587 - accuracy: 0.9360 - val_loss: 0.1433 - val_accuracy: 0.9674\n",
      "Epoch 6/30\n",
      "75904/76000 [============================>.] - ETA: 0s - loss: 0.2182 - accuracy: 0.9454Executing op ModelDataset in device /job:localhost/replica:0/task:0/device:CPU:0\n",
      "76000/76000 [==============================] - 93s 1ms/sample - loss: 0.2185 - accuracy: 0.9454 - val_loss: 0.1234 - val_accuracy: 0.9694\n",
      "Epoch 7/30\n",
      "75904/76000 [============================>.] - ETA: 0s - loss: 0.1839 - accuracy: 0.9547Executing op ModelDataset in device /job:localhost/replica:0/task:0/device:CPU:0\n",
      "76000/76000 [==============================] - 95s 1ms/sample - loss: 0.1838 - accuracy: 0.9548 - val_loss: 0.1141 - val_accuracy: 0.9733\n",
      "Epoch 8/30\n",
      "75904/76000 [============================>.] - ETA: 0s - loss: 0.1612 - accuracy: 0.9596Executing op ModelDataset in device /job:localhost/replica:0/task:0/device:CPU:0\n",
      "76000/76000 [==============================] - 94s 1ms/sample - loss: 0.1612 - accuracy: 0.9596 - val_loss: 0.1116 - val_accuracy: 0.9726\n",
      "Epoch 9/30\n",
      "75904/76000 [============================>.] - ETA: 0s - loss: 0.1415 - accuracy: 0.9641Executing op ModelDataset in device /job:localhost/replica:0/task:0/device:CPU:0\n",
      "76000/76000 [==============================] - 93s 1ms/sample - loss: 0.1415 - accuracy: 0.9641 - val_loss: 0.1134 - val_accuracy: 0.9718\n",
      "Epoch 10/30\n",
      "75904/76000 [============================>.] - ETA: 0s - loss: 0.1280 - accuracy: 0.9682Executing op ModelDataset in device /job:localhost/replica:0/task:0/device:CPU:0\n",
      "76000/76000 [==============================] - 95s 1ms/sample - loss: 0.1280 - accuracy: 0.9682 - val_loss: 0.0949 - val_accuracy: 0.9776\n",
      "Epoch 11/30\n",
      "75904/76000 [============================>.] - ETA: 0s - loss: 0.1146 - accuracy: 0.9711Executing op ModelDataset in device /job:localhost/replica:0/task:0/device:CPU:0\n",
      "76000/76000 [==============================] - 92s 1ms/sample - loss: 0.1146 - accuracy: 0.9711 - val_loss: 0.0949 - val_accuracy: 0.9784\n",
      "Epoch 12/30\n",
      "75904/76000 [============================>.] - ETA: 0s - loss: 0.1054 - accuracy: 0.9734Executing op ModelDataset in device /job:localhost/replica:0/task:0/device:CPU:0\n",
      "76000/76000 [==============================] - 92s 1ms/sample - loss: 0.1055 - accuracy: 0.9734 - val_loss: 0.0979 - val_accuracy: 0.9761\n",
      "Epoch 13/30\n",
      "75904/76000 [============================>.] - ETA: 0s - loss: 0.0979 - accuracy: 0.9747Executing op ModelDataset in device /job:localhost/replica:0/task:0/device:CPU:0\n",
      "76000/76000 [==============================] - 92s 1ms/sample - loss: 0.0979 - accuracy: 0.9747 - val_loss: 0.0944 - val_accuracy: 0.9774\n",
      "Epoch 14/30\n",
      "75904/76000 [============================>.] - ETA: 0s - loss: 0.0892 - accuracy: 0.9777Executing op ModelDataset in device /job:localhost/replica:0/task:0/device:CPU:0\n",
      "76000/76000 [==============================] - 92s 1ms/sample - loss: 0.0891 - accuracy: 0.9777 - val_loss: 0.0898 - val_accuracy: 0.9785\n",
      "Epoch 15/30\n",
      "75904/76000 [============================>.] - ETA: 0s - loss: 0.0833 - accuracy: 0.9783Executing op ModelDataset in device /job:localhost/replica:0/task:0/device:CPU:0\n",
      "76000/76000 [==============================] - 92s 1ms/sample - loss: 0.0832 - accuracy: 0.9783 - val_loss: 0.0931 - val_accuracy: 0.9783\n",
      "Epoch 16/30\n",
      "75904/76000 [============================>.] - ETA: 0s - loss: 0.0797 - accuracy: 0.9795Executing op ModelDataset in device /job:localhost/replica:0/task:0/device:CPU:0\n",
      "76000/76000 [==============================] - 92s 1ms/sample - loss: 0.0797 - accuracy: 0.9795 - val_loss: 0.0844 - val_accuracy: 0.9801\n",
      "Epoch 17/30\n",
      "75904/76000 [============================>.] - ETA: 0s - loss: 0.0715 - accuracy: 0.9817Executing op ModelDataset in device /job:localhost/replica:0/task:0/device:CPU:0\n",
      "76000/76000 [==============================] - 92s 1ms/sample - loss: 0.0715 - accuracy: 0.9817 - val_loss: 0.0830 - val_accuracy: 0.9802\n",
      "Epoch 18/30\n",
      "75904/76000 [============================>.] - ETA: 0s - loss: 0.0691 - accuracy: 0.9819Executing op ModelDataset in device /job:localhost/replica:0/task:0/device:CPU:0\n",
      "76000/76000 [==============================] - 91s 1ms/sample - loss: 0.0691 - accuracy: 0.9819 - val_loss: 0.0851 - val_accuracy: 0.9800\n",
      "Epoch 19/30\n",
      "75904/76000 [============================>.] - ETA: 0s - loss: 0.0650 - accuracy: 0.9830Executing op ModelDataset in device /job:localhost/replica:0/task:0/device:CPU:0\n",
      "76000/76000 [==============================] - 91s 1ms/sample - loss: 0.0651 - accuracy: 0.9829 - val_loss: 0.0796 - val_accuracy: 0.9824\n",
      "Epoch 20/30\n",
      "75904/76000 [============================>.] - ETA: 0s - loss: 0.0618 - accuracy: 0.9840Executing op ModelDataset in device /job:localhost/replica:0/task:0/device:CPU:0\n",
      "76000/76000 [==============================] - 91s 1ms/sample - loss: 0.0618 - accuracy: 0.9840 - val_loss: 0.0775 - val_accuracy: 0.9815\n",
      "Epoch 21/30\n",
      "75904/76000 [============================>.] - ETA: 0s - loss: 0.0573 - accuracy: 0.9853Executing op ModelDataset in device /job:localhost/replica:0/task:0/device:CPU:0\n",
      "76000/76000 [==============================] - 91s 1ms/sample - loss: 0.0573 - accuracy: 0.9853 - val_loss: 0.0846 - val_accuracy: 0.9809\n"
     ]
    },
    {
     "name": "stdout",
     "output_type": "stream",
     "text": [
      "Epoch 22/30\n",
      "75904/76000 [============================>.] - ETA: 0s - loss: 0.0557 - accuracy: 0.9858Executing op ModelDataset in device /job:localhost/replica:0/task:0/device:CPU:0\n",
      "76000/76000 [==============================] - 91s 1ms/sample - loss: 0.0556 - accuracy: 0.9858 - val_loss: 0.0798 - val_accuracy: 0.9823\n",
      "Epoch 23/30\n",
      "75904/76000 [============================>.] - ETA: 0s - loss: 0.0534 - accuracy: 0.9862Executing op ModelDataset in device /job:localhost/replica:0/task:0/device:CPU:0\n",
      "76000/76000 [==============================] - 91s 1ms/sample - loss: 0.0535 - accuracy: 0.9862 - val_loss: 0.0769 - val_accuracy: 0.9829\n",
      "Epoch 24/30\n",
      "75904/76000 [============================>.] - ETA: 0s - loss: 0.0505 - accuracy: 0.9871Executing op ModelDataset in device /job:localhost/replica:0/task:0/device:CPU:0\n",
      "76000/76000 [==============================] - 91s 1ms/sample - loss: 0.0505 - accuracy: 0.9871 - val_loss: 0.0800 - val_accuracy: 0.9825\n",
      "Epoch 25/30\n",
      "75904/76000 [============================>.] - ETA: 0s - loss: 0.0497 - accuracy: 0.9871Executing op ModelDataset in device /job:localhost/replica:0/task:0/device:CPU:0\n",
      "76000/76000 [==============================] - 91s 1ms/sample - loss: 0.0497 - accuracy: 0.9871 - val_loss: 0.0762 - val_accuracy: 0.9838\n",
      "Epoch 26/30\n",
      "75904/76000 [============================>.] - ETA: 0s - loss: 0.0474 - accuracy: 0.9879Executing op ModelDataset in device /job:localhost/replica:0/task:0/device:CPU:0\n",
      "76000/76000 [==============================] - 91s 1ms/sample - loss: 0.0474 - accuracy: 0.9879 - val_loss: 0.0756 - val_accuracy: 0.9826\n",
      "Epoch 27/30\n",
      "75904/76000 [============================>.] - ETA: 0s - loss: 0.0463 - accuracy: 0.9882Executing op ModelDataset in device /job:localhost/replica:0/task:0/device:CPU:0\n",
      "76000/76000 [==============================] - 91s 1ms/sample - loss: 0.0464 - accuracy: 0.9881 - val_loss: 0.0813 - val_accuracy: 0.9819\n",
      "Epoch 28/30\n",
      "75904/76000 [============================>.] - ETA: 0s - loss: 0.0451 - accuracy: 0.9884Executing op ModelDataset in device /job:localhost/replica:0/task:0/device:CPU:0\n",
      "76000/76000 [==============================] - 91s 1ms/sample - loss: 0.0451 - accuracy: 0.9884 - val_loss: 0.0781 - val_accuracy: 0.9827\n",
      "Epoch 29/30\n",
      "75904/76000 [============================>.] - ETA: 0s - loss: 0.0431 - accuracy: 0.9893Executing op ModelDataset in device /job:localhost/replica:0/task:0/device:CPU:0\n",
      "76000/76000 [==============================] - 91s 1ms/sample - loss: 0.0432 - accuracy: 0.9893 - val_loss: 0.0745 - val_accuracy: 0.9831\n",
      "Epoch 30/30\n",
      "75904/76000 [============================>.] - ETA: 0s - loss: 0.0427 - accuracy: 0.9887Executing op ModelDataset in device /job:localhost/replica:0/task:0/device:CPU:0\n",
      "76000/76000 [==============================] - 91s 1ms/sample - loss: 0.0427 - accuracy: 0.9887 - val_loss: 0.0739 - val_accuracy: 0.9839\n",
      "Executing op RangeDataset in device /job:localhost/replica:0/task:0/device:CPU:0\n",
      "Executing op RepeatDataset in device /job:localhost/replica:0/task:0/device:CPU:0\n",
      "Executing op MapDataset in device /job:localhost/replica:0/task:0/device:CPU:0\n",
      "Executing op PrefetchDataset in device /job:localhost/replica:0/task:0/device:CPU:0\n",
      "Executing op FlatMapDataset in device /job:localhost/replica:0/task:0/device:CPU:0\n",
      "Executing op TensorDataset in device /job:localhost/replica:0/task:0/device:CPU:0\n",
      "Executing op RepeatDataset in device /job:localhost/replica:0/task:0/device:CPU:0\n",
      "Executing op ZipDataset in device /job:localhost/replica:0/task:0/device:CPU:0\n",
      "Executing op ParallelMapDataset in device /job:localhost/replica:0/task:0/device:CPU:0\n",
      "Executing op ModelDataset in device /job:localhost/replica:0/task:0/device:CPU:0\n",
      "9500/9500 - 4s - loss: 0.0776 - accuracy: 0.9823\n",
      "Testing accuracy: 0.9823158\n"
     ]
    },
    {
     "data": {
      "text/plain": [
       "\"\\ntry:\\n    with tf.device('/device:GPU:0'):\\n        X_train = tf.convert_to_tensor(X_train, dtype=tf.int32)\\n        Y_train = tf.convert_to_tensor(y_train, dtype=tf.float32)\\n        X_dev = tf.convert_to_tensor(X_valid, dtype=tf.int32)\\n        Y_dev = tf.convert_to_tensor(y_valid, dtype=tf.float32)\\nexcept RuntimeError as e:\\n  print(e)\\n\\nhistory = model.fit(X_train, Y_train, epochs=NB_EPOCH, batch_size=BATCH_SIZE, validation_data=(X_dev, Y_dev), verbose=1)\\n\""
      ]
     },
     "execution_count": 11,
     "metadata": {},
     "output_type": "execute_result"
    }
   ],
   "source": [
    "\n",
    "history = model.fit(X_train, y_train,\n",
    "\t\tbatch_size=BATCH_SIZE, epochs=NB_EPOCH, validation_data=(X_valid, y_valid), use_multiprocessing=True)\n",
    "\n",
    "\n",
    "# Start evaluating model with testing data\n",
    "score_test = model.evaluate(X_test, y_test, verbose=VERBOSE)\n",
    "print(\"Testing accuracy:\", score_test[1])\n",
    "\n",
    "\n",
    "\n",
    "\"\"\"\n",
    "try:\n",
    "    with tf.device('/device:GPU:0'):\n",
    "        X_train = tf.convert_to_tensor(X_train, dtype=tf.int32)\n",
    "        Y_train = tf.convert_to_tensor(y_train, dtype=tf.float32)\n",
    "        X_dev = tf.convert_to_tensor(X_valid, dtype=tf.int32)\n",
    "        Y_dev = tf.convert_to_tensor(y_valid, dtype=tf.float32)\n",
    "except RuntimeError as e:\n",
    "  print(e)\n",
    "\n",
    "history = model.fit(X_train, Y_train, epochs=NB_EPOCH, batch_size=BATCH_SIZE, validation_data=(X_dev, Y_dev), verbose=1)\n",
    "\"\"\""
   ]
  },
  {
   "cell_type": "code",
   "execution_count": null,
   "metadata": {},
   "outputs": [],
   "source": []
  }
 ],
 "metadata": {
  "kernelspec": {
   "display_name": "Python 3",
   "language": "python",
   "name": "python3"
  },
  "language_info": {
   "codemirror_mode": {
    "name": "ipython",
    "version": 3
   },
   "file_extension": ".py",
   "mimetype": "text/x-python",
   "name": "python",
   "nbconvert_exporter": "python",
   "pygments_lexer": "ipython3",
   "version": "3.7.7"
  }
 },
 "nbformat": 4,
 "nbformat_minor": 4
}
